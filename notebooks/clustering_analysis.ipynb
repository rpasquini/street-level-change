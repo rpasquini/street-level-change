{
 "cells": [
  {
   "cell_type": "code",
   "execution_count": 4,
   "id": "79461f12-8bd4-484d-b528-be78b2a81603",
   "metadata": {},
   "outputs": [],
   "source": [
    "import geopandas as gpd\n",
    "import pandas as pd\n",
    "from shapely import wkt"
   ]
  },
  {
   "cell_type": "code",
   "execution_count": 5,
   "id": "43da9434-5419-4641-a980-f9353fa40c67",
   "metadata": {},
   "outputs": [],
   "source": [
    "def load_gdf(df):\n",
    "    gdf = df.copy()\n",
    "    gdf['geometry'] = gdf.geometry.apply(wkt.loads)\n",
    "    gdf = gpd.GeoDataFrame(gdf)\n",
    "    return gdf"
   ]
  },
  {
   "cell_type": "code",
   "execution_count": 18,
   "id": "6ecc3fd5-8205-49bf-b5f6-8d70453dc853",
   "metadata": {},
   "outputs": [],
   "source": [
    "def compute_cluster_centroids(gdf: gpd.GeoDataFrame) -> gpd.GeoDataFrame:\n",
    "    \"\"\"\n",
    "    Aggregates points in each cluster and computes the centroid.\n",
    "    \n",
    "    Parameters\n",
    "    ----------\n",
    "    gdf : gpd.GeoDataFrame\n",
    "        Input GeoDataFrame with Point geometries and a 'cluster_id' column.\n",
    "        \n",
    "    Returns\n",
    "    -------\n",
    "    gpd.GeoDataFrame\n",
    "        GeoDataFrame with one row per cluster containing:\n",
    "        - cluster_id\n",
    "        - point_count: number of points in the cluster\n",
    "        - geometry: the centroid (as Point) of all points in the cluster\n",
    "    \"\"\"\n",
    "    if 'cluster_id' not in gdf.columns:\n",
    "        raise ValueError(\"GeoDataFrame must contain a 'cluster_id' column.\")\n",
    "    if gdf.geometry.geom_type.unique().tolist() != ['Point']:\n",
    "        raise ValueError(\"All geometries must be Points.\")\n",
    "\n",
    "    # Compute centroids by group\n",
    "    grouped = gdf.groupby(\"cluster_id\")\n",
    "\n",
    "    centroids = grouped.geometry.apply(lambda geoms: geoms.union_all().centroid)\n",
    "    counts = grouped.size()\n",
    "\n",
    "    # Combine into a GeoDataFrame\n",
    "    result = gpd.GeoDataFrame({\n",
    "        'cluster_id': centroids.index,\n",
    "        'point_count': counts.values,\n",
    "        'geometry': centroids.values\n",
    "    }, geometry='geometry', crs=gdf.crs)\n",
    "\n",
    "    return result\n"
   ]
  },
  {
   "cell_type": "code",
   "execution_count": 23,
   "id": "67d1e468-ac02-4e00-97ac-b7a2eaf14010",
   "metadata": {},
   "outputs": [],
   "source": [
    "h3_results_path = '../data/point_unification_results/h3_results.csv'\n",
    "bbox_results_path = '../data/point_unification_results/bbox_results.csv'\n",
    "dbscan_results_path = '../data/point_unification_results/dbscan_results.csv'"
   ]
  },
  {
   "cell_type": "code",
   "execution_count": 24,
   "id": "a2db8485-49b1-4b71-8ea3-4cd9c6679607",
   "metadata": {},
   "outputs": [],
   "source": [
    "h3_results = load_gdf(pd.read_csv(h3_results_path))\n",
    "bbox_results = load_gdf(pd.read_csv(bbox_results_path))\n",
    "dbscan_results = load_gdf(pd.read_csv(dbscan_results_path))"
   ]
  },
  {
   "cell_type": "code",
   "execution_count": 25,
   "id": "af2f61fd-3edf-4c98-a7d4-e370ff9df143",
   "metadata": {},
   "outputs": [],
   "source": [
    "dbscan_clusters = compute_cluster_centroids(dbscan_results)\n",
    "bbox_clusters = compute_cluster_centroids(bbox_results)"
   ]
  },
  {
   "cell_type": "code",
   "execution_count": null,
   "id": "49a1eb3e-265b-4d4a-ae16-df4892dad38b",
   "metadata": {},
   "outputs": [],
   "source": [
    "dbscan_clusters.to_csv('dbclusters.csv')\n",
    "bbox_clusters.to_csv('bboxclusters.csv')\n",
    "\n",
    "h3_results.groupby('hex_id').size().to_frame('point_count').to_csv('h3_clusters.csv')"
   ]
  },
  {
   "cell_type": "code",
   "execution_count": null,
   "id": "c3f0de87-35ff-4900-be88-3a6aabc08a85",
   "metadata": {},
   "outputs": [],
   "source": []
  }
 ],
 "metadata": {
  "kernelspec": {
   "display_name": "street-level-change",
   "language": "python",
   "name": "street-level-change"
  },
  "language_info": {
   "codemirror_mode": {
    "name": "ipython",
    "version": 3
   },
   "file_extension": ".py",
   "mimetype": "text/x-python",
   "name": "python",
   "nbconvert_exporter": "python",
   "pygments_lexer": "ipython3",
   "version": "3.11.12"
  }
 },
 "nbformat": 4,
 "nbformat_minor": 5
}
