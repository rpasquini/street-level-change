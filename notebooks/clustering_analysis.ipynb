{
 "cells": [
  {
   "cell_type": "code",
   "execution_count": 1,
   "id": "79461f12-8bd4-484d-b528-be78b2a81603",
   "metadata": {},
   "outputs": [],
   "source": [
    "import pandas as pd"
   ]
  },
  {
   "cell_type": "code",
   "execution_count": 2,
   "id": "c3f0de87-35ff-4900-be88-3a6aabc08a85",
   "metadata": {},
   "outputs": [],
   "source": [
    "data = pd.read_csv('../data/arrecifes/clustering_evaluation.csv')"
   ]
  },
  {
   "cell_type": "code",
   "execution_count": 3,
   "id": "86701520-f799-4ed9-ab5e-45686db60f82",
   "metadata": {},
   "outputs": [
    {
     "data": {
      "text/plain": [
       "eps\n",
       "5     0.971367\n",
       "6     0.965069\n",
       "7     0.940408\n",
       "8     0.919704\n",
       "9     0.868679\n",
       "10    0.792129\n",
       "Name: silhouette_score, dtype: float64"
      ]
     },
     "execution_count": 3,
     "metadata": {},
     "output_type": "execute_result"
    }
   ],
   "source": [
    "data.groupby('eps').silhouette_score.mean()"
   ]
  },
  {
   "cell_type": "code",
   "execution_count": null,
   "id": "c6581594-5612-45a7-a38e-1d1a643bb5f9",
   "metadata": {},
   "outputs": [],
   "source": []
  }
 ],
 "metadata": {
  "kernelspec": {
   "display_name": "street-level-change",
   "language": "python",
   "name": "street-level-change"
  },
  "language_info": {
   "codemirror_mode": {
    "name": "ipython",
    "version": 3
   },
   "file_extension": ".py",
   "mimetype": "text/x-python",
   "name": "python",
   "nbconvert_exporter": "python",
   "pygments_lexer": "ipython3",
   "version": "3.11.12"
  }
 },
 "nbformat": 4,
 "nbformat_minor": 5
}
