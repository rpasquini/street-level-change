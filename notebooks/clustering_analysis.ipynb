{
 "cells": [
  {
   "cell_type": "code",
   "execution_count": 1,
   "id": "5244de3a-9b57-4e07-af41-ac27773414ea",
   "metadata": {},
   "outputs": [],
   "source": [
    "import os, sys\n",
    "# Add src to path to import our modules\n",
    "sys.path.append('..')\n",
    "\n",
    "from src.core.point_unification import (\n",
    "    unify_points,\n",
    "    compute_cluster_centroids,\n",
    ")\n",
    "\n",
    "from src.api.streetview import get_panorama_metadata\n",
    "\n",
    "from tqdm import tqdm\n",
    "\n",
    "import pandas as pd\n",
    "import geopandas as gpd\n",
    "from shapely import wkt\n",
    "import numpy as np\n",
    "from shapely.ops import nearest_points\n",
    "\n",
    "def gen_clusters(panoramas, eps, min_samples=1):\n",
    "    print(f\"Applying DBSCAN clustering with eps={eps}, min_samples={min_samples}\")\n",
    "    # Apply DBSCAN clustering\n",
    "    dbscan_results = unify_points(panoramas, eps=eps, min_samples=min_samples)\n",
    "    \n",
    "    # Compute centroids\n",
    "    #print(\"Computing cluster centroids\")\n",
    "    centroids = compute_cluster_centroids(dbscan_results)\n",
    "    return dbscan_results, centroids\n",
    "\n",
    "def evaluate_dbscan_clusters(clusters_gdf, points_gdf, disable_tqdm=False):\n",
    "    \"\"\"\n",
    "    Evaluate DBSCAN clustering results with simple, interpretable metrics.\n",
    "    \n",
    "    Parameters\n",
    "    ----------\n",
    "    clusters_gdf : GeoDataFrame\n",
    "        DataFrame with cluster centroids. Must have columns:\n",
    "        - 'cluster_id'\n",
    "        - 'geometry' (Point)\n",
    "        \n",
    "    points_gdf : GeoDataFrame\n",
    "        DataFrame with points assigned to clusters. Must have columns:\n",
    "        - 'cluster_id' (DBSCAN labels, -1 = noise)\n",
    "        - 'geometry' (Point)\n",
    "        \n",
    "    Returns\n",
    "    -------\n",
    "    metrics : dict\n",
    "        Dictionary with evaluation metrics.\n",
    "    \"\"\"\n",
    "\n",
    "    # Transform to EPSG:3857 to get metrics in meters\n",
    "    clusters_gdf = clusters_gdf.to_crs(3857)\n",
    "    points_gdf = points_gdf.to_crs(3857)\n",
    "    \n",
    "    # Exclude noise for cluster-based calculations\n",
    "    clustered_points = points_gdf[points_gdf[\"cluster_id\"] != -1]\n",
    "    valid_clusters = clusters_gdf[clusters_gdf[\"cluster_id\"] != -1]\n",
    "    \n",
    "    # Number of clusters\n",
    "    n_clusters = valid_clusters[\"cluster_id\"].nunique()\n",
    "    \n",
    "    # Noise ratio\n",
    "    noise_ratio = (points_gdf[\"cluster_id\"] == -1).mean()\n",
    "    \n",
    "    # Cluster size distribution\n",
    "    cluster_sizes = clustered_points.groupby(\"cluster_id\").size()\n",
    "    avg_cluster_size = cluster_sizes.mean()\n",
    "    cluster_size_stats = cluster_sizes.describe().to_dict()\n",
    "    \n",
    "    # Within-cluster average distance\n",
    "    within_distances = []\n",
    "    for cid, group in tqdm(clustered_points.groupby(\"cluster_id\"), total=n_clusters, disable=disable_tqdm):\n",
    "        centroid = valid_clusters.loc[valid_clusters[\"cluster_id\"] == cid, \"geometry\"].values[0]\n",
    "        dists = group[\"geometry\"].apply(lambda g: g.distance(centroid)).values\n",
    "        within_distances.append(np.mean(dists))\n",
    "    avg_within_distance = np.mean(within_distances) if within_distances else np.nan\n",
    "    \n",
    "    # Between-cluster distances (pairwise between centroids)\n",
    "    between_distances = []\n",
    "    centroids = valid_clusters[\"geometry\"].values\n",
    "    for i in tqdm(range(len(centroids)), total=len(centroids), disable=disable_tqdm):\n",
    "        for j in range(i+1, len(centroids)):\n",
    "            between_distances.append(centroids[i].distance(centroids[j]))\n",
    "    avg_between_distance = np.mean(between_distances) if between_distances else np.nan\n",
    "    \n",
    "    # Separation / Cohesion ratio\n",
    "    sep_coh_ratio = (\n",
    "        avg_between_distance / avg_within_distance\n",
    "        if avg_within_distance and not np.isnan(avg_within_distance) else np.nan\n",
    "    )\n",
    "    \n",
    "    return {\n",
    "        \"n_clusters\": n_clusters,\n",
    "        \"noise_ratio\": noise_ratio,\n",
    "        \"avg_cluster_size\": avg_cluster_size,\n",
    "        \"cluster_size_stats\": cluster_size_stats,\n",
    "        \"avg_within_distance\": avg_within_distance,\n",
    "        \"avg_between_distance\": avg_between_distance,\n",
    "        \"sep_coh_ratio\": sep_coh_ratio\n",
    "    }\n",
    "\n",
    "def run_dbscan(points_gdf, eps_values, min_samples_values, disable_tqdm=True):\n",
    "    \"\"\"\n",
    "    Run DBSCAN for a grid of eps and min_samples values,\n",
    "    evaluate results with evaluate_dbscan_clusters,\n",
    "    and return a DataFrame with all metrics.\n",
    "    \n",
    "    Parameters\n",
    "    ----------\n",
    "    points_gdf : GeoDataFrame\n",
    "        Input points with geometry (no cluster_id column yet).\n",
    "    eps_values : list\n",
    "        List of eps values to try.\n",
    "    min_samples_values : list\n",
    "        List of min_samples values to try.\n",
    "    metric : str\n",
    "        Distance metric for DBSCAN (default = 'euclidean').\n",
    "    \n",
    "    Returns\n",
    "    -------\n",
    "    results_df : DataFrame\n",
    "        Evaluation results for each (eps, min_samples).\n",
    "    \"\"\"\n",
    "    \n",
    "    results = []\n",
    "\n",
    "    for eps in tqdm(eps_values):\n",
    "        for ms in tqdm(min_samples_values):\n",
    "            \n",
    "            dbscan_results, centroids = gen_clusters(points_gdf, eps=eps, min_samples=ms)\n",
    "            \n",
    "            # Evaluate\n",
    "            metrics = evaluate_dbscan_clusters(centroids, points_gdf, disable_tqdm=disable_tqdm)\n",
    "            metrics[\"eps\"] = eps\n",
    "            metrics[\"min_samples\"] = ms\n",
    "            \n",
    "            results.append(metrics)\n",
    "    \n",
    "    return pd.DataFrame(results)\n",
    "\n",
    "\n",
    "def df_to_gdf(df):\n",
    "    gdf = df.copy()\n",
    "    gdf.loc[:, \"geometry\"] = gdf.geometry.apply(wkt.loads)\n",
    "    gdf = gpd.GeoDataFrame(gdf, geometry='geometry', crs=4326)\n",
    "    return gdf"
   ]
  },
  {
   "cell_type": "code",
   "execution_count": null,
   "id": "305e22a0-12a1-4ad6-9180-fd030779c249",
   "metadata": {},
   "outputs": [],
   "source": [
    "extent = wkt.loads(\n",
    "    \"POLYGON((-58.58198 -34.582224, -58.515231 -34.582224, -58.515231 -34.635357, -58.58198 -34.635357, -58.58198 -34.582224))\"\n",
    ")\n",
    "\n",
    "panos = df_to_gdf(pd.read_csv('../data/tresdefebrero/panos_enriched.csv'))\n",
    "\n",
    "rbp = df_to_gdf(pd.read_csv('../data/tresdefebrero/renabap_intersected.csv'))\n",
    "\n",
    "panos = gpd.sjoin_nearest(\n",
    "    panos.to_crs(3857),\n",
    "    rbp[[\"id_renabap\", \"geometry\"]].to_crs(3857),\n",
    "    how=\"left\",\n",
    "    distance_col=\"distance\",\n",
    ").to_crs(4326)\n",
    "panos = panos.rename(columns={\"id_renabap\": \"closest_barrio\"}).drop(\n",
    "    columns=[\"index_right\"]\n",
    ")"
   ]
  },
  {
   "cell_type": "code",
   "execution_count": 4,
   "id": "5638af32-1bf7-4324-8146-1c8c11b5842f",
   "metadata": {},
   "outputs": [],
   "source": [
    "panos = panos[panos.intersects(extent)]"
   ]
  },
  {
   "cell_type": "code",
   "execution_count": 5,
   "id": "77c19bb7-587e-48a3-b98b-746a7b7b631e",
   "metadata": {},
   "outputs": [
    {
     "data": {
      "text/html": [
       "<div>\n",
       "<style scoped>\n",
       "    .dataframe tbody tr th:only-of-type {\n",
       "        vertical-align: middle;\n",
       "    }\n",
       "\n",
       "    .dataframe tbody tr th {\n",
       "        vertical-align: top;\n",
       "    }\n",
       "\n",
       "    .dataframe thead th {\n",
       "        text-align: right;\n",
       "    }\n",
       "</style>\n",
       "<table border=\"1\" class=\"dataframe\">\n",
       "  <thead>\n",
       "    <tr style=\"text-align: right;\">\n",
       "      <th></th>\n",
       "      <th>pano_id</th>\n",
       "      <th>lat</th>\n",
       "      <th>lon</th>\n",
       "      <th>geometry</th>\n",
       "      <th>closest_barrio</th>\n",
       "      <th>distance</th>\n",
       "    </tr>\n",
       "  </thead>\n",
       "  <tbody>\n",
       "    <tr>\n",
       "      <th>0</th>\n",
       "      <td>--4tdN434sL2rFkixRxoDw</td>\n",
       "      <td>-34.620094</td>\n",
       "      <td>-58.549171</td>\n",
       "      <td>POINT (-58.54917 -34.62009)</td>\n",
       "      <td>1122</td>\n",
       "      <td>100.484082</td>\n",
       "    </tr>\n",
       "    <tr>\n",
       "      <th>3</th>\n",
       "      <td>--f8BTEjiIsPZir88hHt9w</td>\n",
       "      <td>-34.617903</td>\n",
       "      <td>-58.553512</td>\n",
       "      <td>POINT (-58.55351 -34.6179)</td>\n",
       "      <td>313</td>\n",
       "      <td>411.591546</td>\n",
       "    </tr>\n",
       "    <tr>\n",
       "      <th>4</th>\n",
       "      <td>--mAOMLBMdhkoEMbHqDhYA</td>\n",
       "      <td>-34.624371</td>\n",
       "      <td>-58.545562</td>\n",
       "      <td>POINT (-58.54556 -34.62437)</td>\n",
       "      <td>1122</td>\n",
       "      <td>444.202933</td>\n",
       "    </tr>\n",
       "    <tr>\n",
       "      <th>5</th>\n",
       "      <td>--r2r0tM84f7arlojji25w</td>\n",
       "      <td>-34.621858</td>\n",
       "      <td>-58.577350</td>\n",
       "      <td>POINT (-58.57735 -34.62186)</td>\n",
       "      <td>2929</td>\n",
       "      <td>465.321905</td>\n",
       "    </tr>\n",
       "    <tr>\n",
       "      <th>7</th>\n",
       "      <td>-07N8ueih88oii9NUZAj8w</td>\n",
       "      <td>-34.627565</td>\n",
       "      <td>-58.574763</td>\n",
       "      <td>POINT (-58.57476 -34.62756)</td>\n",
       "      <td>1107</td>\n",
       "      <td>489.067960</td>\n",
       "    </tr>\n",
       "  </tbody>\n",
       "</table>\n",
       "</div>"
      ],
      "text/plain": [
       "                  pano_id        lat        lon                     geometry  \\\n",
       "0  --4tdN434sL2rFkixRxoDw -34.620094 -58.549171  POINT (-58.54917 -34.62009)   \n",
       "3  --f8BTEjiIsPZir88hHt9w -34.617903 -58.553512   POINT (-58.55351 -34.6179)   \n",
       "4  --mAOMLBMdhkoEMbHqDhYA -34.624371 -58.545562  POINT (-58.54556 -34.62437)   \n",
       "5  --r2r0tM84f7arlojji25w -34.621858 -58.577350  POINT (-58.57735 -34.62186)   \n",
       "7  -07N8ueih88oii9NUZAj8w -34.627565 -58.574763  POINT (-58.57476 -34.62756)   \n",
       "\n",
       "   closest_barrio    distance  \n",
       "0            1122  100.484082  \n",
       "3             313  411.591546  \n",
       "4            1122  444.202933  \n",
       "5            2929  465.321905  \n",
       "7            1107  489.067960  "
      ]
     },
     "execution_count": 5,
     "metadata": {},
     "output_type": "execute_result"
    }
   ],
   "source": [
    "panos.head()"
   ]
  },
  {
   "cell_type": "code",
   "execution_count": 6,
   "id": "8aabcd34-91e2-4fc9-8886-fef6e71aa6db",
   "metadata": {},
   "outputs": [
    {
     "data": {
      "text/plain": [
       "(45234, 6)"
      ]
     },
     "execution_count": 6,
     "metadata": {},
     "output_type": "execute_result"
    }
   ],
   "source": [
    "panos.shape"
   ]
  },
  {
   "cell_type": "code",
   "execution_count": 7,
   "id": "436cdffb-0888-4fd6-bdfd-d13f8de8eb98",
   "metadata": {},
   "outputs": [
    {
     "name": "stdout",
     "output_type": "stream",
     "text": [
      "Applying DBSCAN clustering with eps=2.5, min_samples=2\n"
     ]
    }
   ],
   "source": [
    "panos, centroids = gen_clusters(panos, eps=2.5, min_samples=2)"
   ]
  },
  {
   "cell_type": "code",
   "execution_count": 8,
   "id": "a18ecf1e-ea1a-4dae-b69c-c79538f8cb0e",
   "metadata": {},
   "outputs": [
    {
     "data": {
      "text/plain": [
       "(9676, 3)"
      ]
     },
     "execution_count": 8,
     "metadata": {},
     "output_type": "execute_result"
    }
   ],
   "source": [
    "centroids.shape"
   ]
  },
  {
   "cell_type": "raw",
   "id": "7e77c158-9c2e-4abf-b01c-e84515ed5216",
   "metadata": {},
   "source": [
    "# make complex cluster metrics (like sep_coh ratio) per barrio, and then average"
   ]
  },
  {
   "cell_type": "raw",
   "id": "9512b69e-9771-43f6-868f-c84993c8855d",
   "metadata": {},
   "source": [
    "evaluate_dbscan_clusters(centroids, panos)"
   ]
  },
  {
   "attachments": {},
   "cell_type": "raw",
   "id": "e3a05eac-da1f-4ac0-95ac-0c57f1a7492b",
   "metadata": {},
   "source": [
    "eps_range = [5, 2.5, 1]          # in meters\n",
    "min_samples_range = [1, 2, 3]\n",
    "\n",
    "results_df = run_dbscan(panos, eps_range, min_samples_range)\n",
    "\n",
    "print(results_df.head())\n",
    "\n",
    "results_df.to_csv('results_eps_5_2p5.csv',index=None)\n",
    "\n",
    "import ast\n",
    "results = pd.read_csv('results_eps_5_2p5.csv')\n",
    "results['cluster_size_stats'] = results.cluster_size_stats.apply(ast.literal_eval)\n",
    "\n",
    "results"
   ]
  },
  {
   "cell_type": "code",
   "execution_count": 9,
   "id": "277699dc-f80f-4570-99d9-ba6df1edc2aa",
   "metadata": {},
   "outputs": [],
   "source": [
    "cluster_ids = [x for x in centroids.cluster_id.unique() if x != -1]"
   ]
  },
  {
   "cell_type": "code",
   "execution_count": 10,
   "id": "333b9a9a-6a0c-4fd0-9f65-5dae62b6e95e",
   "metadata": {},
   "outputs": [],
   "source": [
    "SAMPLE_N = 5000\n",
    "\n",
    "import random\n",
    "random.seed(32)\n",
    "\n",
    "smp = random.sample(cluster_ids, SAMPLE_N)\n",
    "random.seed(None)"
   ]
  },
  {
   "cell_type": "code",
   "execution_count": 11,
   "id": "bf5344a8-1326-41fd-aec3-b25fd988a053",
   "metadata": {},
   "outputs": [],
   "source": [
    "sample_centroids = centroids[centroids.cluster_id.isin(smp)]\n",
    "sample_panos = panos[panos.cluster_id.isin(smp)]"
   ]
  },
  {
   "cell_type": "code",
   "execution_count": 12,
   "id": "a5357bd9-30c3-4afe-80f2-b1297c96d75e",
   "metadata": {},
   "outputs": [
    {
     "data": {
      "text/plain": [
       "(20582, 7)"
      ]
     },
     "execution_count": 12,
     "metadata": {},
     "output_type": "execute_result"
    }
   ],
   "source": [
    "sample_panos.shape"
   ]
  },
  {
   "cell_type": "code",
   "execution_count": 13,
   "id": "ed993740-fa73-4024-b11f-e3689fde8d9e",
   "metadata": {},
   "outputs": [],
   "source": [
    "api_key = os.getenv(\"GOOGLE_STREET_VIEW_API_KEY\")"
   ]
  },
  {
   "cell_type": "code",
   "execution_count": 14,
   "id": "4a496cfb-21c0-49f3-ab20-7829c431ee50",
   "metadata": {},
   "outputs": [
    {
     "data": {
      "text/html": [
       "<div>\n",
       "<style scoped>\n",
       "    .dataframe tbody tr th:only-of-type {\n",
       "        vertical-align: middle;\n",
       "    }\n",
       "\n",
       "    .dataframe tbody tr th {\n",
       "        vertical-align: top;\n",
       "    }\n",
       "\n",
       "    .dataframe thead th {\n",
       "        text-align: right;\n",
       "    }\n",
       "</style>\n",
       "<table border=\"1\" class=\"dataframe\">\n",
       "  <thead>\n",
       "    <tr style=\"text-align: right;\">\n",
       "      <th></th>\n",
       "      <th>cluster_id</th>\n",
       "      <th>point_count</th>\n",
       "      <th>geometry</th>\n",
       "    </tr>\n",
       "  </thead>\n",
       "  <tbody>\n",
       "    <tr>\n",
       "      <th>1</th>\n",
       "      <td>0</td>\n",
       "      <td>4</td>\n",
       "      <td>POINT (-58.54917 -34.62009)</td>\n",
       "    </tr>\n",
       "    <tr>\n",
       "      <th>16</th>\n",
       "      <td>15</td>\n",
       "      <td>4</td>\n",
       "      <td>POINT (-58.57215 -34.6273)</td>\n",
       "    </tr>\n",
       "    <tr>\n",
       "      <th>27</th>\n",
       "      <td>26</td>\n",
       "      <td>4</td>\n",
       "      <td>POINT (-58.57233 -34.62511)</td>\n",
       "    </tr>\n",
       "    <tr>\n",
       "      <th>75</th>\n",
       "      <td>74</td>\n",
       "      <td>4</td>\n",
       "      <td>POINT (-58.57252 -34.62001)</td>\n",
       "    </tr>\n",
       "    <tr>\n",
       "      <th>78</th>\n",
       "      <td>77</td>\n",
       "      <td>4</td>\n",
       "      <td>POINT (-58.53976 -34.60231)</td>\n",
       "    </tr>\n",
       "  </tbody>\n",
       "</table>\n",
       "</div>"
      ],
      "text/plain": [
       "    cluster_id  point_count                     geometry\n",
       "1            0            4  POINT (-58.54917 -34.62009)\n",
       "16          15            4   POINT (-58.57215 -34.6273)\n",
       "27          26            4  POINT (-58.57233 -34.62511)\n",
       "75          74            4  POINT (-58.57252 -34.62001)\n",
       "78          77            4  POINT (-58.53976 -34.60231)"
      ]
     },
     "execution_count": 14,
     "metadata": {},
     "output_type": "execute_result"
    }
   ],
   "source": [
    "sample_centroids[sample_centroids.point_count==4].head()"
   ]
  },
  {
   "cell_type": "code",
   "execution_count": 15,
   "id": "dca1e307-0ba8-4b7c-bf90-5d3542cd6312",
   "metadata": {},
   "outputs": [],
   "source": [
    "pano_id = '0nzArjiiKDwZRcHn16nxLA'"
   ]
  },
  {
   "cell_type": "code",
   "execution_count": 16,
   "id": "f840cc6c-de0c-4d57-b077-5817af7941fd",
   "metadata": {},
   "outputs": [],
   "source": [
    "pano_ids = sample_panos.pano_id.unique().tolist()"
   ]
  },
  {
   "cell_type": "code",
   "execution_count": 17,
   "id": "28d788a1-5c4a-4ead-b956-b6589f46891b",
   "metadata": {},
   "outputs": [
    {
     "data": {
      "text/plain": [
       "20582"
      ]
     },
     "execution_count": 17,
     "metadata": {},
     "output_type": "execute_result"
    }
   ],
   "source": [
    "len(pano_ids)"
   ]
  },
  {
   "cell_type": "raw",
   "id": "9f84b5da-8030-484c-99f8-42598a33a8fa",
   "metadata": {},
   "source": [
    "metadata_dates = {}\n",
    "failed_set = []\n",
    "for pid in tqdm(pano_ids):\n",
    "    try:\n",
    "        metadata = get_panorama_metadata(pid, api_key)\n",
    "    except Exception as e:\n",
    "        failed_set.append(pid)\n",
    "    date = metadata['date']\n",
    "    metadata_dates[pid] = date"
   ]
  },
  {
   "cell_type": "code",
   "execution_count": 19,
   "id": "909bb9d5-6fb5-4f05-9e2f-55830b5f6c76",
   "metadata": {},
   "outputs": [],
   "source": [
    "from concurrent.futures import ThreadPoolExecutor, as_completed\n",
    "from tqdm import tqdm\n",
    "\n",
    "def fetch_metadata_parallel(pano_ids, api_key, max_workers=10):\n",
    "    \"\"\"\n",
    "    Fetch panorama metadata in parallel.\n",
    "    \n",
    "    Parameters\n",
    "    ----------\n",
    "    pano_ids : list\n",
    "        List of panorama IDs.\n",
    "    api_key : str\n",
    "        API key for the metadata function.\n",
    "    max_workers : int\n",
    "        Number of parallel workers (default=10).\n",
    "        \n",
    "    Returns\n",
    "    -------\n",
    "    metadata_dates : dict\n",
    "        Mapping pano_id -> date.\n",
    "    failed_set : list\n",
    "        List of pano_ids that failed.\n",
    "    \"\"\"\n",
    "\n",
    "    metadata_dates = {}\n",
    "    failed_set = []\n",
    "\n",
    "    def task(pid):\n",
    "        \"\"\"Wrapper to fetch metadata for one pano_id.\"\"\"\n",
    "        try:\n",
    "            metadata = get_panorama_metadata(pid, api_key)\n",
    "            return pid, metadata['date'], None\n",
    "        except Exception as e:\n",
    "            return pid, None, e\n",
    "\n",
    "    with ThreadPoolExecutor(max_workers=max_workers) as executor:\n",
    "        futures = {executor.submit(task, pid): pid for pid in pano_ids}\n",
    "        for future in tqdm(as_completed(futures), total=len(futures)):\n",
    "            pid, date, error = future.result()\n",
    "            if error:\n",
    "                failed_set.append(pid)\n",
    "            else:\n",
    "                metadata_dates[pid] = date\n",
    "\n",
    "    return metadata_dates, failed_set\n"
   ]
  },
  {
   "cell_type": "code",
   "execution_count": 20,
   "id": "a68deca8-5c42-4928-8308-81c2b40fde2b",
   "metadata": {},
   "outputs": [
    {
     "name": "stderr",
     "output_type": "stream",
     "text": [
      "100%|████████████████████████████████████████████████████████████████████████████████████████████████████████████████████████████████████████| 20582/20582 [05:50<00:00, 58.72it/s]\n"
     ]
    },
    {
     "name": "stdout",
     "output_type": "stream",
     "text": [
      "Fetched: 20537\n",
      "Failed: 45\n"
     ]
    }
   ],
   "source": [
    "metadata_dates, failed_set = fetch_metadata_parallel(pano_ids, api_key, max_workers=20)\n",
    "\n",
    "print(\"Fetched:\", len(metadata_dates))\n",
    "print(\"Failed:\", len(failed_set))"
   ]
  },
  {
   "cell_type": "code",
   "execution_count": 26,
   "id": "6cb05343-ea47-4658-b102-50a22efab099",
   "metadata": {},
   "outputs": [
    {
     "data": {
      "text/plain": [
       "np.int64(45)"
      ]
     },
     "execution_count": 26,
     "metadata": {},
     "output_type": "execute_result"
    }
   ],
   "source": [
    "sample_panos.loc[:, 'date'] = sample_panos.pano_id.map(metadata_dates)\n",
    "\n",
    "sample_panos.date.isna().sum()"
   ]
  },
  {
   "cell_type": "code",
   "execution_count": 22,
   "id": "5fddb230-2c3e-499d-8c62-1b76ca4b023a",
   "metadata": {},
   "outputs": [
    {
     "data": {
      "text/html": [
       "<div>\n",
       "<style scoped>\n",
       "    .dataframe tbody tr th:only-of-type {\n",
       "        vertical-align: middle;\n",
       "    }\n",
       "\n",
       "    .dataframe tbody tr th {\n",
       "        vertical-align: top;\n",
       "    }\n",
       "\n",
       "    .dataframe thead th {\n",
       "        text-align: right;\n",
       "    }\n",
       "</style>\n",
       "<table border=\"1\" class=\"dataframe\">\n",
       "  <thead>\n",
       "    <tr style=\"text-align: right;\">\n",
       "      <th></th>\n",
       "      <th>pano_id</th>\n",
       "      <th>lat</th>\n",
       "      <th>lon</th>\n",
       "      <th>geometry</th>\n",
       "      <th>closest_barrio</th>\n",
       "      <th>distance</th>\n",
       "      <th>cluster_id</th>\n",
       "      <th>date</th>\n",
       "    </tr>\n",
       "  </thead>\n",
       "  <tbody>\n",
       "    <tr>\n",
       "      <th>0</th>\n",
       "      <td>--4tdN434sL2rFkixRxoDw</td>\n",
       "      <td>-34.620094</td>\n",
       "      <td>-58.549171</td>\n",
       "      <td>POINT (-58.54917 -34.62009)</td>\n",
       "      <td>1122</td>\n",
       "      <td>100.484082</td>\n",
       "      <td>0</td>\n",
       "      <td>2023-10</td>\n",
       "    </tr>\n",
       "    <tr>\n",
       "      <th>4</th>\n",
       "      <td>--mAOMLBMdhkoEMbHqDhYA</td>\n",
       "      <td>-34.624371</td>\n",
       "      <td>-58.545562</td>\n",
       "      <td>POINT (-58.54556 -34.62437)</td>\n",
       "      <td>1122</td>\n",
       "      <td>444.202933</td>\n",
       "      <td>2</td>\n",
       "      <td>2024-05</td>\n",
       "    </tr>\n",
       "    <tr>\n",
       "      <th>20</th>\n",
       "      <td>-1EOix82q4dncp7HIBr8lA</td>\n",
       "      <td>-34.626108</td>\n",
       "      <td>-58.574256</td>\n",
       "      <td>POINT (-58.57426 -34.62611)</td>\n",
       "      <td>1107</td>\n",
       "      <td>284.166719</td>\n",
       "      <td>10</td>\n",
       "      <td>2025-07</td>\n",
       "    </tr>\n",
       "    <tr>\n",
       "      <th>24</th>\n",
       "      <td>-27xWrpGhLE5e2v9PNJxzg</td>\n",
       "      <td>-34.620992</td>\n",
       "      <td>-58.534424</td>\n",
       "      <td>POINT (-58.53442 -34.62099)</td>\n",
       "      <td>5384</td>\n",
       "      <td>249.655819</td>\n",
       "      <td>11</td>\n",
       "      <td>2023-04</td>\n",
       "    </tr>\n",
       "    <tr>\n",
       "      <th>26</th>\n",
       "      <td>-2C15MRBcSt9w83IKqdzww</td>\n",
       "      <td>-34.630305</td>\n",
       "      <td>-58.552834</td>\n",
       "      <td>POINT (-58.55283 -34.6303)</td>\n",
       "      <td>5385</td>\n",
       "      <td>260.989342</td>\n",
       "      <td>12</td>\n",
       "      <td>2024-05</td>\n",
       "    </tr>\n",
       "  </tbody>\n",
       "</table>\n",
       "</div>"
      ],
      "text/plain": [
       "                   pano_id        lat        lon                     geometry  \\\n",
       "0   --4tdN434sL2rFkixRxoDw -34.620094 -58.549171  POINT (-58.54917 -34.62009)   \n",
       "4   --mAOMLBMdhkoEMbHqDhYA -34.624371 -58.545562  POINT (-58.54556 -34.62437)   \n",
       "20  -1EOix82q4dncp7HIBr8lA -34.626108 -58.574256  POINT (-58.57426 -34.62611)   \n",
       "24  -27xWrpGhLE5e2v9PNJxzg -34.620992 -58.534424  POINT (-58.53442 -34.62099)   \n",
       "26  -2C15MRBcSt9w83IKqdzww -34.630305 -58.552834   POINT (-58.55283 -34.6303)   \n",
       "\n",
       "    closest_barrio    distance  cluster_id     date  \n",
       "0             1122  100.484082           0  2023-10  \n",
       "4             1122  444.202933           2  2024-05  \n",
       "20            1107  284.166719          10  2025-07  \n",
       "24            5384  249.655819          11  2023-04  \n",
       "26            5385  260.989342          12  2024-05  "
      ]
     },
     "execution_count": 22,
     "metadata": {},
     "output_type": "execute_result"
    }
   ],
   "source": [
    "sample_panos.head()"
   ]
  },
  {
   "cell_type": "code",
   "execution_count": 23,
   "id": "33d9c96a-7961-4b0d-9ea8-222839ea53b5",
   "metadata": {},
   "outputs": [],
   "source": [
    "dates_per_cluster_count_dict = sample_panos.groupby('cluster_id').date.size().to_dict()"
   ]
  },
  {
   "cell_type": "code",
   "execution_count": 24,
   "id": "12234d9f-0b47-4d2a-8454-94ce15a17ca4",
   "metadata": {},
   "outputs": [
    {
     "name": "stderr",
     "output_type": "stream",
     "text": [
      "/Users/jeronimoluza/Library/Caches/pypoetry/virtualenvs/street-level-change-UdM0GGzz-py3.11/lib/python3.11/site-packages/geopandas/geodataframe.py:1968: SettingWithCopyWarning: \n",
      "A value is trying to be set on a copy of a slice from a DataFrame.\n",
      "Try using .loc[row_indexer,col_indexer] = value instead\n",
      "\n",
      "See the caveats in the documentation: https://pandas.pydata.org/pandas-docs/stable/user_guide/indexing.html#returning-a-view-versus-a-copy\n",
      "  super().__setitem__(key, value)\n"
     ]
    }
   ],
   "source": [
    "sample_centroids.loc[:, 'dates_count'] = sample_centroids.cluster_id.map(dates_per_cluster_count_dict)"
   ]
  },
  {
   "cell_type": "markdown",
   "id": "7686cf87-29c5-43e6-a9ee-fb4c95a15f28",
   "metadata": {},
   "source": [
    "#### Number of dates inside cluster should match the cluster size, meaning that each panorama inside a cluster should represent a different date."
   ]
  },
  {
   "cell_type": "code",
   "execution_count": 25,
   "id": "39847948-60c1-43c0-829c-761db242605b",
   "metadata": {},
   "outputs": [
    {
     "name": "stdout",
     "output_type": "stream",
     "text": [
      "100.0% of cluster points have cluster_size == n_dates\n"
     ]
    }
   ],
   "source": [
    "matches = (sample_centroids.point_count == sample_centroids.dates_count).sum() / len(sample_centroids)\n",
    "print(f\"{matches * 100:.1f}% of cluster points have cluster_size == n_dates\")"
   ]
  },
  {
   "cell_type": "code",
   "execution_count": null,
   "id": "e4ec2bc1-671e-4285-84c5-a44ebeb504d5",
   "metadata": {},
   "outputs": [],
   "source": []
  }
 ],
 "metadata": {
  "kernelspec": {
   "display_name": "Python 3 (ipykernel)",
   "language": "python",
   "name": "python3"
  },
  "language_info": {
   "codemirror_mode": {
    "name": "ipython",
    "version": 3
   },
   "file_extension": ".py",
   "mimetype": "text/x-python",
   "name": "python",
   "nbconvert_exporter": "python",
   "pygments_lexer": "ipython3",
   "version": "3.11.12"
  }
 },
 "nbformat": 4,
 "nbformat_minor": 5
}
