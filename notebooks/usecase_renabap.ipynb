{
 "cells": [
  {
   "cell_type": "code",
   "execution_count": 1,
   "id": "79461f12-8bd4-484d-b528-be78b2a81603",
   "metadata": {},
   "outputs": [],
   "source": [
    "import sys\n",
    "sys.path.append('..')"
   ]
  },
  {
   "cell_type": "code",
   "execution_count": 2,
   "id": "74e05a7b-4385-4067-868a-53fead8d2cc6",
   "metadata": {},
   "outputs": [],
   "source": [
    "import src\n",
    "from shapely import wkt\n",
    "import geopandas as gpd\n",
    "import pandas as pd\n",
    "from tqdm import tqdm\n",
    "\n",
    "# Polígonos del RENABAP\n",
    "# https://datos.gob.ar/dataset/habitat-registro-nacional-barrios-populares\n",
    "renabap = gpd.read_file('https://archivo.habitat.gob.ar/dataset/ssisu/renabap-datos-barrios-geojson')"
   ]
  },
  {
   "cell_type": "code",
   "execution_count": 3,
   "id": "4954047d-d2b4-4b9d-8813-feea8eebc13f",
   "metadata": {},
   "outputs": [],
   "source": [
    "mask = wkt.loads(\n",
    "    \"POLYGON((-58.1058 -34.824, -57.8183 -34.824, -57.8183 -35.0353, -58.1058 -35.0353, -58.1058 -34.824))\"\n",
    ")"
   ]
  },
  {
   "cell_type": "raw",
   "id": "db33088c-6564-4287-8fa1-624b836125d1",
   "metadata": {},
   "source": [
    "When you provide latitude and longitude coordinates, the API searches a 50 meter radius for a photograph closest to the location.\n",
    "https://developers.google.com/maps/documentation/streetview/request-streetview"
   ]
  },
  {
   "cell_type": "raw",
   "id": "54fdb00b-faed-4c77-96eb-2c71cca52b72",
   "metadata": {},
   "source": [
    "Aires Argentinos, Rio Gallegos:\n",
    "\n",
    "50-meter points dist: 1,763 rows\n",
    "75-meter points dist: 1,634 rows\n",
    "100-meter points dist: 1,216 rows\n",
    "500-meter points dist: 43 rows"
   ]
  },
  {
   "cell_type": "code",
   "execution_count": 21,
   "id": "248926f6-3fdc-45eb-ab2f-8907511d3a2a",
   "metadata": {},
   "outputs": [],
   "source": [
    "from concurrent.futures import ThreadPoolExecutor, as_completed\n",
    "from tqdm import tqdm\n",
    "import pandas as pd\n",
    "import geopandas as gpd\n",
    "import numpy as np\n",
    "\n",
    "def loop_polys_get_panos(gdf, buffer_dist, dist_points, mask=None, max_workers=10, chunk_size=100):\n",
    "    gdf_buffered = gdf.copy()\n",
    "\n",
    "    # Apply optional mask\n",
    "    if mask is not None:\n",
    "        gdf_buffered = gdf_buffered[gdf_buffered.intersects(mask)]\n",
    "\n",
    "    # Buffer in meters (EPSG:3857), then back to WGS84\n",
    "    gdf_buffered['geometry'] = gdf_buffered.to_crs(3857).buffer(buffer_dist).to_crs(4326)\n",
    "\n",
    "    # Union and explode to get disjoint polygons\n",
    "    gdf_buffered = gpd.GeoDataFrame(\n",
    "        [gdf_buffered.union_all()], columns=['geometry']\n",
    "    ).reset_index(drop=True).explode(index_parts=False)\n",
    "\n",
    "    # Step 1: Generate all grid points\n",
    "    all_points = []\n",
    "    for geom in tqdm(gdf_buffered.geometry, desc=\"Generating Grid Points\"):\n",
    "        points = src.utils.create_point_grid(geom, dist_points)\n",
    "        all_points.append(points)\n",
    "\n",
    "    points_gdf = pd.concat(all_points).reset_index(drop=True)\n",
    "\n",
    "    # Step 2: Submit one job per point (GeoDataFrame with one row)\n",
    "    def get_pano_for_point(point_geom):\n",
    "        point_gdf = gpd.GeoDataFrame(geometry=[point_geom], crs=4326)\n",
    "        return src.sv.get_panos(point_gdf)\n",
    "\n",
    "    results = []\n",
    "    with ThreadPoolExecutor(max_workers=max_workers) as executor:\n",
    "        futures = [executor.submit(get_pano_for_point, geom) for geom in points_gdf.geometry]\n",
    "        for future in tqdm(as_completed(futures), total=len(futures), desc=\"Fetching Panoramas\"):\n",
    "            result = future.result()\n",
    "            if result is not None and not result.empty:\n",
    "                results.append(result)\n",
    "\n",
    "    return pd.concat(results).reset_index(drop=True) if results else pd.DataFrame()"
   ]
  },
  {
   "cell_type": "code",
   "execution_count": 5,
   "id": "a631cc4f-ffcf-48d0-a9a5-1eddbaddf1a1",
   "metadata": {},
   "outputs": [
    {
     "name": "stderr",
     "output_type": "stream",
     "text": [
      "Generating Grid Points: 100%|██████████████████████████████████████| 35/35 [00:02<00:00, 12.61it/s]\n",
      "Fetching Panoramas: 100%|████████████████████████████████████| 59469/59469 [19:14<00:00, 51.50it/s]\n"
     ]
    },
    {
     "name": "stdout",
     "output_type": "stream",
     "text": [
      "CPU times: user 9min 27s, sys: 2min 25s, total: 11min 52s\n",
      "Wall time: 19min 19s\n"
     ]
    }
   ],
   "source": [
    "%%time\n",
    "panos = loop_polys_get_panos(renabap, buffer_dist=500, dist_points=50, mask=mask)"
   ]
  },
  {
   "cell_type": "code",
   "execution_count": 20,
   "id": "8da7ae43-39ec-48ef-a371-5b3084328fe2",
   "metadata": {},
   "outputs": [
    {
     "data": {
      "text/html": [
       "<div>\n",
       "<style scoped>\n",
       "    .dataframe tbody tr th:only-of-type {\n",
       "        vertical-align: middle;\n",
       "    }\n",
       "\n",
       "    .dataframe tbody tr th {\n",
       "        vertical-align: top;\n",
       "    }\n",
       "\n",
       "    .dataframe thead th {\n",
       "        text-align: right;\n",
       "    }\n",
       "</style>\n",
       "<table border=\"1\" class=\"dataframe\">\n",
       "  <thead>\n",
       "    <tr style=\"text-align: right;\">\n",
       "      <th></th>\n",
       "      <th>pano_id</th>\n",
       "      <th>lat</th>\n",
       "      <th>lon</th>\n",
       "      <th>date</th>\n",
       "    </tr>\n",
       "  </thead>\n",
       "  <tbody>\n",
       "    <tr>\n",
       "      <th>0</th>\n",
       "      <td>RkDOYU5dvUfjc1GoKdie2A</td>\n",
       "      <td>-35.042131</td>\n",
       "      <td>-58.092130</td>\n",
       "      <td>None</td>\n",
       "    </tr>\n",
       "    <tr>\n",
       "      <th>1</th>\n",
       "      <td>gW0r_VJT-DDgYDs0kbYkVg</td>\n",
       "      <td>-35.041657</td>\n",
       "      <td>-58.092271</td>\n",
       "      <td>None</td>\n",
       "    </tr>\n",
       "    <tr>\n",
       "      <th>2</th>\n",
       "      <td>ak29enRDqAz9ytfzy84Wew</td>\n",
       "      <td>-35.042191</td>\n",
       "      <td>-58.092266</td>\n",
       "      <td>None</td>\n",
       "    </tr>\n",
       "    <tr>\n",
       "      <th>3</th>\n",
       "      <td>QHtFhxIquzlsJwYrbKAouA</td>\n",
       "      <td>-35.041580</td>\n",
       "      <td>-58.092272</td>\n",
       "      <td>None</td>\n",
       "    </tr>\n",
       "    <tr>\n",
       "      <th>4</th>\n",
       "      <td>CceD6CZ4pQoGi38rPDc7gA</td>\n",
       "      <td>-35.041734</td>\n",
       "      <td>-58.092271</td>\n",
       "      <td>None</td>\n",
       "    </tr>\n",
       "  </tbody>\n",
       "</table>\n",
       "</div>"
      ],
      "text/plain": [
       "                  pano_id        lat        lon  date\n",
       "0  RkDOYU5dvUfjc1GoKdie2A -35.042131 -58.092130  None\n",
       "1  gW0r_VJT-DDgYDs0kbYkVg -35.041657 -58.092271  None\n",
       "2  ak29enRDqAz9ytfzy84Wew -35.042191 -58.092266  None\n",
       "3  QHtFhxIquzlsJwYrbKAouA -35.041580 -58.092272  None\n",
       "4  CceD6CZ4pQoGi38rPDc7gA -35.041734 -58.092271  None"
      ]
     },
     "execution_count": 20,
     "metadata": {},
     "output_type": "execute_result"
    }
   ],
   "source": [
    "panos.head()"
   ]
  },
  {
   "cell_type": "code",
   "execution_count": 7,
   "id": "6bc1149b-3e37-4a81-9310-39db9a2b0a9f",
   "metadata": {},
   "outputs": [],
   "source": [
    "total = renabap.union_all().area\n",
    "partial = renabap[renabap.intersects(mask)].union_all().area"
   ]
  },
  {
   "cell_type": "code",
   "execution_count": 8,
   "id": "fe0bd9eb-3d40-4c81-b947-f959d03e4f39",
   "metadata": {},
   "outputs": [
    {
     "data": {
      "text/plain": [
       "0.03237114506298897"
      ]
     },
     "execution_count": 8,
     "metadata": {},
     "output_type": "execute_result"
    }
   ],
   "source": [
    "partial/total"
   ]
  }
 ],
 "metadata": {
  "kernelspec": {
   "display_name": "street-level-change",
   "language": "python",
   "name": "street-level-change"
  },
  "language_info": {
   "codemirror_mode": {
    "name": "ipython",
    "version": 3
   },
   "file_extension": ".py",
   "mimetype": "text/x-python",
   "name": "python",
   "nbconvert_exporter": "python",
   "pygments_lexer": "ipython3",
   "version": "3.11.12"
  }
 },
 "nbformat": 4,
 "nbformat_minor": 5
}
